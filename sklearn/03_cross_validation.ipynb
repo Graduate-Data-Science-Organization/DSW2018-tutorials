{
 "cells": [
  {
   "cell_type": "code",
   "execution_count": 1,
   "metadata": {},
   "outputs": [],
   "source": [
    "import numpy as np\n",
    "import matplotlib.pyplot as plt\n",
    "%matplotlib inline"
   ]
  },
  {
   "cell_type": "markdown",
   "metadata": {},
   "source": [
    "# Evaluating Model Performance\n",
    "\n",
    "In the last notebook we trained two different linear models to the diabetes dataset. How are we to quantitatively say that one model is better than the other? Here's where another method of scikit-learn estimators comes into play: the score.\n",
    "\n",
    "```\n",
    ">>> estimator = Estimator()\n",
    ">>> estimator.fit(train_data)\n",
    ">>> estimator.score(test_data)\n",
    "```\n",
    "\n",
    "The score is some measure of the quality of the fit to the given data. Higher scores are better. The exact score function changes for the estimator, and there are ways to [code up your own scoring functions](http://scikit-learn.org/stable/modules/generated/sklearn.metrics.make_scorer.html). For both the linear and Lasso regressors covered in the last notebook, the score is the coefficient of determination $R^2$.\n",
    "\n",
    "Let's see how each model did."
   ]
  },
  {
   "cell_type": "code",
   "execution_count": 3,
   "metadata": {},
   "outputs": [
    {
     "name": "stdout",
     "output_type": "stream",
     "text": [
      "Linear regression: 0.5850753022690571\n",
      "Lasso regression: 0.3713190845037463\n"
     ]
    }
   ],
   "source": [
    "# Load the dataset\n",
    "from sklearn import datasets\n",
    "\n",
    "diabetes = datasets.load_diabetes()\n",
    "X_train = diabetes.data[:-20]\n",
    "X_test = diabetes.data[-20:]\n",
    "y_train = diabetes.target[:-20]\n",
    "y_test = diabetes.target[-20:]\n",
    "\n",
    "# Train linear and lasso regressors\n",
    "from sklearn import linear_model\n",
    "\n",
    "regr = linear_model.LinearRegression()\n",
    "regr.fit(X_train, y_train)\n",
    "lasso = linear_model.Lasso()\n",
    "lasso.fit(X_train, y_train)\n",
    "\n",
    "# See the scores on the test data\n",
    "print('Linear regression:', regr.score(X_test, y_test))\n",
    "print('Lasso regression:', lasso.score(X_test, y_test))"
   ]
  },
  {
   "cell_type": "markdown",
   "metadata": {},
   "source": [
    "Looks like quantitatively speaking, the linear regressor performed better than Lasso."
   ]
  },
  {
   "cell_type": "markdown",
   "metadata": {},
   "source": [
    "# Hyperparameters and Grid Search Cross-validation\n",
    "\n",
    "We haven't yet mentioned an important parameter of the Lasso regressor -- the learning rate $\\alpha$. This parameter effectively quantifies the sparsity of the learned coefficients; higher values of $\\alpha$ result in sparser coefficients, and $\\alpha=0$ is identical to normal linear regression.\n",
    "\n",
    "$\\alpha$ is an example of a hyperparameter: a parameter of the model itself that can be tuned to improve the performance of the model on a dataset.\n",
    "\n",
    "In our example above, we may have found that the default value of $\\alpha$ is not the best value for the data. We can search for the best value of using grid search cross-validation, where we evaluate the score of fit estimators using a wide range of hyperparameter values."
   ]
  },
  {
   "cell_type": "code",
   "execution_count": 58,
   "metadata": {},
   "outputs": [
    {
     "data": {
      "text/plain": [
       "Text(0,0.5,'$R^2$')"
      ]
     },
     "execution_count": 58,
     "metadata": {},
     "output_type": "execute_result"
    },
    {
     "data": {
      "image/png": "[encoded data removed]",
      "text/plain": [
       "<Figure size 432x288 with 1 Axes>"
      ]
     },
     "metadata": {},
     "output_type": "display_data"
    }
   ],
   "source": [
    "from sklearn.model_selection import GridSearchCV, cross_val_score\n",
    "\n",
    "# Define alpha values to search through\n",
    "alphas = np.logspace(-3, 0, 50)\n",
    "# Set up grid search\n",
    "gscv = GridSearchCV(estimator=lasso, param_grid=dict(alpha=alphas), return_train_score=False)\n",
    "# Fit all estimators\n",
    "gscv.fit(X_train, y_train)\n",
    "\n",
    "# Plot CV results\n",
    "plt.plot(alphas, gscv.cv_results_['mean_test_score'])\n",
    "plt.fill_between(alphas,\n",
    "                 gscv.cv_results_['mean_test_score']+gscv.cv_results_['std_test_score'],\n",
    "                 gscv.cv_results_['mean_test_score']-gscv.cv_results_['std_test_score'],\n",
    "                 alpha=0.1)\n",
    "plt.xscale('log')\n",
    "plt.xlabel('$\\\\alpha$')\n",
    "plt.ylabel('$R^2$')"
   ]
  },
  {
   "cell_type": "code",
   "execution_count": 62,
   "metadata": {},
   "outputs": [
    {
     "name": "stdout",
     "output_type": "stream",
     "text": [
      "Linear regression: 0.5850753022690571\n",
      "Default Lasso regression: 0.3713190845037463\n",
      "Best Lasso regression (alpha=0.034): 0.5883935396856639\n"
     ]
    }
   ],
   "source": [
    "# Find the estimator with the best score\n",
    "best_lasso = gscv.best_estimator_\n",
    "\n",
    "# Compare best Lasso to default Lasso and linear regressor\n",
    "print('Linear regression:', regr.score(X_test, y_test))\n",
    "print('Default Lasso regression:', lasso.score(X_test, y_test))\n",
    "print('Best Lasso regression (alpha={:0.3f}):'.format(best_lasso.alpha), best_lasso.score(X_test, y_test))"
   ]
  },
  {
   "cell_type": "markdown",
   "metadata": {},
   "source": [
    "We can see that the Lasso regressor with properly selected $\\alpha$ performs slightly better than the linear regressor on this dataset."
   ]
  }
 ],
 "metadata": {
  "kernelspec": {
   "display_name": "Python 3",
   "language": "python",
   "name": "python3"
  },
  "language_info": {
   "codemirror_mode": {
    "name": "ipython",
    "version": 3
   },
   "file_extension": ".py",
   "mimetype": "text/x-python",
   "name": "python",
   "nbconvert_exporter": "python",
   "pygments_lexer": "ipython3",
   "version": "3.6.3"
  }
 },
 "nbformat": 4,
 "nbformat_minor": 2
}
