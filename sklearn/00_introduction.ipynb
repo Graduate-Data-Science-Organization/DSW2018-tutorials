{
 "cells": [
  {
   "cell_type": "markdown",
   "metadata": {},
   "source": [
    "# Machine Learning Basics with scikit-learn"
   ]
  },
  {
   "cell_type": "markdown",
   "metadata": {},
   "source": [
    "## The ML Problem Space\n",
    "\n",
    "What sorts of problems can machine learning algorithms solve?\n",
    "\n",
    "* Supervised learning: making predictions from high-dimensional inputs\n",
    "    * Classification\n",
    "    * Regression\n",
    "* Unsupervised learning: finding representations of the structure of data\n",
    "    * Clustering\n",
    "    * Dimensionality-reduction"
   ]
  },
  {
   "cell_type": "markdown",
   "metadata": {},
   "source": [
    "## scikit-learn\n",
    "\n",
    "Scikit-learn is a Python package that contains implementations of many common machine learning algorithms, as well as tools to evaluate the performance of these algorithms. You'll find throughout this tutorial that scikit-learn API makes building modular ML pipelines simple."
   ]
  },
  {
   "cell_type": "markdown",
   "metadata": {},
   "source": [
    "![](img/ml_map.png)"
   ]
  },
  {
   "cell_type": "markdown",
   "metadata": {},
   "source": [
    "## Plan for today\n",
    "\n",
    "* [Getting started](01_datasets.ipynb): understand how datasets and estimators are used in scikit-learn\n",
    "* [Supervised learning example](02_linear_regression.ipynb): linear regression with the diabetes dataset\n",
    "* [Evaluating performance](03_cross_validation.ipynb): scores, hyperparameters, and grid search cross-validation\n",
    "* [Unsupervised learning example](04_clustering.ipynb): k-means clustering with the iris dataset\n",
    "* [Building a pipeline](05_facial_recognition.ipynb): facial recognition with PCA+SVM"
   ]
  }
 ],
 "metadata": {
  "kernelspec": {
   "display_name": "Python 3",
   "language": "python",
   "name": "python3"
  },
  "language_info": {
   "codemirror_mode": {
    "name": "ipython",
    "version": 3
   },
   "file_extension": ".py",
   "mimetype": "text/x-python",
   "name": "python",
   "nbconvert_exporter": "python",
   "pygments_lexer": "ipython3",
   "version": "3.6.3"
  }
 },
 "nbformat": 4,
 "nbformat_minor": 2
}
