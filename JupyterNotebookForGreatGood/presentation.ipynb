{
 "cells": [
  {
   "cell_type": "markdown",
   "metadata": {
    "slideshow": {
     "slide_type": "slide"
    }
   },
   "source": [
    "If you'd like to follow along, either\n",
    "\n",
    "1) head to the GitHub repo for the DSW, http://bit.ly/DSW2018-jpnbfgg-github, and follow the installation instructions in the `JupyterNotebookForGreatGood` folder\n",
    "\n",
    "2) go to this link http://bit.ly/DSW2018-jpnbfgg-binder to use a temporary cloud environment (might take a minute or two!)\n",
    "<br><br><br><br><br><br>"
   ]
  },
  {
   "cell_type": "markdown",
   "metadata": {
    "slideshow": {
     "slide_type": "slide"
    }
   },
   "source": [
    "# Use You Jupyter Notebook For Great Good"
   ]
  },
  {
   "cell_type": "markdown",
   "metadata": {
    "slideshow": {
     "slide_type": "slide"
    }
   },
   "source": [
    "## What is Jupyter Notebook?"
   ]
  },
  {
   "cell_type": "markdown",
   "metadata": {
    "slideshow": {
     "slide_type": "subslide"
    }
   },
   "source": [
    "Jupyter Notebooks are computational documents."
   ]
  },
  {
   "cell_type": "markdown",
   "metadata": {
    "slideshow": {
     "slide_type": "fragment"
    }
   },
   "source": [
    "They allow the seamless integration of text and media with the computational output of just about any programming language."
   ]
  },
  {
   "cell_type": "markdown",
   "metadata": {
    "slideshow": {
     "slide_type": "fragment"
    }
   },
   "source": [
    "HTML, CSS, and JavaScript are the *linguae francae*, and the browser speaks them. No direct dependence on OS.\n",
    "<br><br><br><br><br><br><br><br><br>"
   ]
  },
  {
   "cell_type": "markdown",
   "metadata": {
    "slideshow": {
     "slide_type": "slide"
    }
   },
   "source": [
    "## Where did Jupyter Notebook Come From?"
   ]
  },
  {
   "cell_type": "markdown",
   "metadata": {
    "slideshow": {
     "slide_type": "subslide"
    }
   },
   "source": [
    "Created by [Project Jupyter](http://jupyter.org), centered here at [Berkeley's Institute for Data Science](https://bids.berkeley.edu/research/project-jupyter). The project is open source, so [anyone can (and should!) contribute](https://github.com/jupyter)"
   ]
  },
  {
   "cell_type": "markdown",
   "metadata": {
    "slideshow": {
     "slide_type": "slide"
    }
   },
   "source": [
    "## What are Jupyter Notebooks Used For?"
   ]
  },
  {
   "cell_type": "markdown",
   "metadata": {
    "slideshow": {
     "slide_type": "subslide"
    }
   },
   "source": [
    "- Polished notebooks can be used for communication: results, best practices, education.\n",
    "  - Check out this gallery for examples: https://github.com/jupyter/jupyter/wiki/A-gallery-of-interesting-Jupyter-Notebooks\n",
    "- Notebooks are great for rapid iteration and prototyping of data analysis, especially if the workflow is highly visual."
   ]
  },
  {
   "cell_type": "markdown",
   "metadata": {
    "slideshow": {
     "slide_type": "subslide"
    }
   },
   "source": [
    "You can do just about anything with Jupyter Notebooks if you look around for the right tools/extensions. Even this presentation is a Jupyter Notebook!"
   ]
  },
  {
   "cell_type": "code",
   "execution_count": null,
   "metadata": {
    "slideshow": {
     "slide_type": "fragment"
    }
   },
   "outputs": [],
   "source": [
    "print(\"hello there!\")"
   ]
  },
  {
   "cell_type": "markdown",
   "metadata": {
    "slideshow": {
     "slide_type": "slide"
    }
   },
   "source": [
    "## Let's get our hands dirty!"
   ]
  },
  {
   "cell_type": "markdown",
   "metadata": {
    "slideshow": {
     "slide_type": "slide"
    }
   },
   "source": [
    "# Clouds of Jupyter"
   ]
  },
  {
   "cell_type": "markdown",
   "metadata": {
    "slideshow": {
     "slide_type": "fragment"
    }
   },
   "source": [
    "There are (at least) two services that offer free, small-to-mid-scale computation in the cloud via Jupyter Notebooks.\n",
    "\n",
    "- [binder](https://mybinder.org/), which cloud deploys GitHub Repos, associated with Project Jupyter\n",
    "- [colab](https://colab.research.google.com/notebooks/welcome.ipynb), which offers Jupyter Notebooks as \"Google Docs\", by Google"
   ]
  }
 ],
 "metadata": {
  "celltoolbar": "Slideshow",
  "kernelspec": {
   "display_name": "Python 3",
   "language": "python",
   "name": "python3"
  },
  "language_info": {
   "codemirror_mode": {
    "name": "ipython",
    "version": 3
   },
   "file_extension": ".py",
   "mimetype": "text/x-python",
   "name": "python",
   "nbconvert_exporter": "python",
   "pygments_lexer": "ipython3",
   "version": "3.6.6"
  }
 },
 "nbformat": 4,
 "nbformat_minor": 2
}
