{
 "cells": [
  {
   "cell_type": "code",
   "execution_count": null,
   "metadata": {},
   "outputs": [],
   "source": [
    "# A Code Cell. Execute by clicking it, then Cell > Run Cells in the toolbar or pressing Esc, then Ctrl+Enter\n",
    "# you'll know it executed if the phrase below appears underneath it.\n",
    "print(\"welcome to jupyter!\")"
   ]
  },
  {
   "cell_type": "markdown",
   "metadata": {},
   "source": [
    "## A Markdown Cell\n",
    "\n",
    "Markdown cells contain text formatted by the markdown engine.\n",
    "\n",
    "For a full guide, check out [this link](https://github.com/adam-p/markdown-here/wiki/Markdown-Cheatsheet).\n",
    "\n",
    "If you ever see something cool in somebody else's Jupyter Notebook, just double click the cell and you'll be able to see how it was done. Try on this cell now. To return a markdown cell to its formatted style, \"execute\" it by pressing `Esc` then `Ctrl+Enter` while your text cursor is in the cell.\n",
    "\n",
    "You can style text: *italic*, **bold**, ***italic plus bold***, ~~strikethrough~~, `fixed width`.\n",
    "\n",
    "You can make lists and sublists, ordered or unordered:\n",
    "\n",
    "1. first things first i'll eat your brains\n",
    "1. then imma start rocking\n",
    "  * gold teeth\n",
    "  * chains\n",
    "\n",
    "You can include quotes:\n",
    "\n",
    "> The problem with internet quotes is that you can't always depend on their accuracy.\n",
    "> <br> Abraham Lincoln, *State of the Union, 1864*\n",
    "\n",
    "You can write mathematics using LaTeX, aka $\\LaTeX$, like so: $$\\log p\\left(\\vec{x}\\right) = \\vec{x}^\\top \\Sigma^{-1} \\vec{x} - \\log Z\\left(\\Sigma\\right)$$.\n",
    "\n",
    "You can even include blocks of code, with syntax highlighting\n",
    "\n",
    "```python\n",
    "def factorial(x):\n",
    "    if x in [0, 1]:\n",
    "        return 1\n",
    "    else:\n",
    "        return x * factorial(x-1)\n",
    "```\n",
    "\n",
    "As an alternative to markdown formatting, you can also use HTML+CSS, like\n",
    "<span style=\"color:#1874CD; font-style: oblique; font-weight: bold;\">so</span>.\n",
    "\n",
    "The two do not always mix, however."
   ]
  },
  {
   "cell_type": "markdown",
   "metadata": {},
   "source": [
    "## Using the Jupyter Notebok\n",
    "\n",
    "When using the Jupyter notebook, you switch between Command Mode, in which you use keystrokes to do things like execute, add, or delete cells, and Edit Mode, in which keystrokes change the contents of the cells.\n",
    "\n",
    "You enter Edit Mode by clicking an un-rendered Markdown cell or a code cell. Note that this means you need to triple-click to start editing a rendered Markdown cell.\n",
    "\n",
    "You enter Command Mode by pressing `Esc`. That is why the \"execute cells\" shortcut in the previous two cells was prefixed with an `Esc`. To see the full list of commands, press `H` while in Command Mode. This will also show you the (system-specific) keyboard shortcuts for Edit Mode. If you remember only one keyboard command in Jupyter, make it `Esc, H`.\n",
    "\n",
    "If you remember more than one, remember \"restart the kernel\", or `Esc, 00`, which kills the underlying kernel of the notebook and starts a new one. Note that this means all of your computed values will disappear!\n",
    "\n",
    "When you're done with a Jupyter notebook, close it and shut off the kernel by clicking, in the toolbar, `File > Close and Halt`. If you just want to close the tab, but preserve all the values you've computed, just close the tab. You'll be able to reopen the notebook from the file browser. Note that shutting off the kernel won't delete anything that's in the outputs (e.g. the printed `welcome to jupyter!` above). We'll talk about this more in `01`."
   ]
  }
 ],
 "metadata": {
  "kernelspec": {
   "display_name": "Python 3",
   "language": "python",
   "name": "python3"
  },
  "language_info": {
   "codemirror_mode": {
    "name": "ipython",
    "version": 3
   },
   "file_extension": ".py",
   "mimetype": "text/x-python",
   "name": "python",
   "nbconvert_exporter": "python",
   "pygments_lexer": "ipython3",
   "version": "3.6.6"
  }
 },
 "nbformat": 4,
 "nbformat_minor": 2
}
