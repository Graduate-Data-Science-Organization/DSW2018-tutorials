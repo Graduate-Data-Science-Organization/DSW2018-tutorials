{
 "cells": [
  {
   "cell_type": "markdown",
   "metadata": {},
   "source": [
    "## `IPython.display`"
   ]
  },
  {
   "cell_type": "markdown",
   "metadata": {},
   "source": [
    "The `display` submodule of `IPython`, the Python kernel that is typically used with Jupyter, has the ability to handle a pretty absurd variety of content modalities through the common language of HTML+JS. The cell below will import this module and return a list of its submodules, each of which corresponds to a different modality.  "
   ]
  },
  {
   "cell_type": "markdown",
   "metadata": {},
   "source": [
    "NOTE: many of these methods either take a locally-hosted file or a url to a remotely-hosted file. They work equally well in both cases. In order to keep the GitHub repo for this tutorial small, I am sticking to the remote strategy."
   ]
  },
  {
   "cell_type": "code",
   "execution_count": null,
   "metadata": {},
   "outputs": [],
   "source": [
    "from IPython import display\n",
    "\n",
    "dir(display)[:23]"
   ]
  },
  {
   "cell_type": "markdown",
   "metadata": {},
   "source": [
    "### `display.Audio`"
   ]
  },
  {
   "cell_type": "markdown",
   "metadata": {},
   "source": [
    "Starting small: we can \"display\" an audio file, making it playable.\n",
    "\n",
    "The file can be an array, which we generate ourselves, as in the example below:"
   ]
  },
  {
   "cell_type": "code",
   "execution_count": null,
   "metadata": {},
   "outputs": [],
   "source": [
    "import numpy as np"
   ]
  },
  {
   "cell_type": "code",
   "execution_count": null,
   "metadata": {},
   "outputs": [],
   "source": [
    "lngth = 5; base_freq = 220; rate = 44100\n",
    "ts = np.arange(0, lngth, step=lngth/2/rate)\n",
    "sweep = np.sqrt((lngth-ts)) * (np.sin(base_freq*ts**2) + np.sin(base_freq*np.power(2, 5/12)*ts**2))\n",
    "\n",
    "display.Audio(sweep, rate=rate)"
   ]
  },
  {
   "cell_type": "markdown",
   "metadata": {},
   "source": [
    "or it could be a music file, either stored locally or hosted remotely:"
   ]
  },
  {
   "cell_type": "code",
   "execution_count": null,
   "metadata": {
    "scrolled": true
   },
   "outputs": [],
   "source": [
    "display.Audio(url=\"https://www.myinstants.com/media/sounds/expedientes-secretos-x-musica22.mp3\")"
   ]
  },
  {
   "cell_type": "markdown",
   "metadata": {},
   "source": [
    "### `display.Image`\n",
    "\n",
    "Markdown can already display images, so why is `display.Image` useful? Because it can do gifs, either local or remote!"
   ]
  },
  {
   "cell_type": "code",
   "execution_count": null,
   "metadata": {
    "scrolled": false
   },
   "outputs": [],
   "source": [
    "display.Image(url=\"https://media2.giphy.com/media/l49K1AIQuatbvL4LS/giphy.gif\")"
   ]
  },
  {
   "cell_type": "markdown",
   "metadata": {},
   "source": [
    "### `display.HTML`"
   ]
  },
  {
   "cell_type": "markdown",
   "metadata": {},
   "source": [
    "#### Animations and Videos"
   ]
  },
  {
   "cell_type": "markdown",
   "metadata": {},
   "source": [
    "Just recently, the folks at matplotlib started to get on the HTML and JavaScript train, and they now provide a simple way to export their animated figures as JS/HTML. That means that Jupyter's HTML method can be used to display them.\n",
    "\n",
    "For this example, I am indebted to [Louis Tiao's blogpost](http://tiao.io/posts/notebooks/embedding-matplotlib-animations-in-jupyter-as-interactive-javascript-widgets/). If you want to learn more about embedding matplotlib animations, check out their blog!"
   ]
  },
  {
   "cell_type": "code",
   "execution_count": null,
   "metadata": {},
   "outputs": [],
   "source": [
    "import matplotlib.pyplot as plt\n",
    "import matplotlib.animation as anim"
   ]
  },
  {
   "cell_type": "markdown",
   "metadata": {},
   "source": [
    "Notice that we no longer need the `%matplotlib` magic anymore. We're handling plot display ourselves now!"
   ]
  },
  {
   "cell_type": "code",
   "execution_count": null,
   "metadata": {},
   "outputs": [],
   "source": [
    "def init_video(x_eps=0.01, t_eps=0.1, temp_init=0.1):\n",
    "    \"\"\"prepare all the components of the Gaussian animation\n",
    "    \"\"\"\n",
    "    fig, ax = plt.subplots()\n",
    "    xmin = -3; xmax = 3\n",
    "    \n",
    "    ax.set_xlim((xmin, xmax))\n",
    "    ax.set_ylim((0, 1.25))\n",
    "\n",
    "    line, = ax.plot([], [], lw=3)\n",
    "    \n",
    "    def init_frame(): \n",
    "        \"\"\"clear the line data before each frame\"\"\"\n",
    "        line.set_data([], [])\n",
    "        return (line,)\n",
    "    \n",
    "    xs = np.arange(xmin, xmax, x_eps)\n",
    "    def animate(i):\n",
    "        ys = np.exp(-xs**2/(t_eps*i+temp_init))\n",
    "        line.set_data(xs, ys)\n",
    "        return (line,)\n",
    "    \n",
    "    plt.close()\n",
    "    \n",
    "    return fig, animate, init_frame"
   ]
  },
  {
   "cell_type": "markdown",
   "metadata": {},
   "source": [
    "The code cell above defines a function that sets up a short animation of a Gaussian distribution increasing in width. The cell below runs that function and uses it to produce an animation, which it then displays by means of `display.HTML` and the `to_jshtml` method, which turns the animation into an interactive JS widget."
   ]
  },
  {
   "cell_type": "code",
   "execution_count": null,
   "metadata": {
    "scrolled": false
   },
   "outputs": [],
   "source": [
    "fig, animate, init_frame = init_video(t_eps=0.01)\n",
    "\n",
    "framerate = 60; length = 2\n",
    "num_frames = framerate*length\n",
    "animation = anim.FuncAnimation(fig, animate, init_func=init_frame,\n",
    "                                frames=num_frames, interval=1000/60)\n",
    "\n",
    "display.HTML(animation.to_jshtml())"
   ]
  },
  {
   "cell_type": "markdown",
   "metadata": {},
   "source": [
    "If you have `ffmpeg` installed in a place where Python can find it, then you can produce a video version of the animation, suitable for saving to a `.mp4` file, by means of the `.to_html5_video` method."
   ]
  },
  {
   "cell_type": "code",
   "execution_count": null,
   "metadata": {},
   "outputs": [],
   "source": [
    "# display.HTML(animation.to_html5_video())"
   ]
  },
  {
   "cell_type": "markdown",
   "metadata": {},
   "source": [
    "#### Aribtrary HTML websites"
   ]
  },
  {
   "cell_type": "markdown",
   "metadata": {},
   "source": [
    "Anything that's pure HTML can be displayed by this method. That includes the lion's share of a lot of websites!"
   ]
  },
  {
   "cell_type": "code",
   "execution_count": null,
   "metadata": {},
   "outputs": [],
   "source": [
    "display.HTML(url=\"https://google.com\")"
   ]
  },
  {
   "cell_type": "markdown",
   "metadata": {},
   "source": [
    "### `display.IFrame`"
   ]
  },
  {
   "cell_type": "markdown",
   "metadata": {},
   "source": [
    "`i`nline `frame`s, or `iframe`s, are used to display content from one website inside another. They used to be popular to, e.g., display quiz results on personal blogs, customize MySpace pages, and other very early 00s stuff. Despite the retro vibe, there are still some valid reasons to use `iframe`s to display content from another webpage. `iframe`s can also be used to connect Jupyter notebooks to external websites, to, e.g., poll a room full of notebook users and display the results in real time. The example below uses the `iframe` capability of Google Maps to display a map of the UC Berkeley campus. "
   ]
  },
  {
   "cell_type": "code",
   "execution_count": null,
   "metadata": {},
   "outputs": [],
   "source": [
    "src = \"http://bit.ly/my_iframe\"\n",
    "display.IFrame(src=src,\n",
    "               width=\"600\", height=\"450\", frameborder=\"0\", style=\"border:0\", allowfullscreen=True)"
   ]
  },
  {
   "cell_type": "markdown",
   "metadata": {},
   "source": [
    "### `display.YouTubeVideo`"
   ]
  },
  {
   "cell_type": "markdown",
   "metadata": {},
   "source": [
    "`display.IFrame` could be used to display a video, but displaying videos is probably one of the most obvious uses for `iframe`s, so there are some more convenient interfaces. `display.YouTubeVideo` requires only the video identifier as a string. `display.Video` can be used with other video sources."
   ]
  },
  {
   "cell_type": "code",
   "execution_count": null,
   "metadata": {},
   "outputs": [],
   "source": [
    "display.YouTubeVideo(\"b3_lVSrPB6w\")"
   ]
  }
 ],
 "metadata": {
  "kernelspec": {
   "display_name": "Python 3",
   "language": "python",
   "name": "python3"
  },
  "language_info": {
   "codemirror_mode": {
    "name": "ipython",
    "version": 3
   },
   "file_extension": ".py",
   "mimetype": "text/x-python",
   "name": "python",
   "nbconvert_exporter": "python",
   "pygments_lexer": "ipython3",
   "version": "3.6.6"
  }
 },
 "nbformat": 4,
 "nbformat_minor": 2
}
