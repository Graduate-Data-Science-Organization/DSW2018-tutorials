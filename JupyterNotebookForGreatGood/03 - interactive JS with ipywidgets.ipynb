{
 "cells": [
  {
   "cell_type": "markdown",
   "metadata": {},
   "source": [
    "## `ipywidgets`"
   ]
  },
  {
   "cell_type": "markdown",
   "metadata": {},
   "source": [
    "Using the `ipywidgets` module, an add-on to Jupyter, you can create interactive Python functions."
   ]
  },
  {
   "cell_type": "code",
   "execution_count": null,
   "metadata": {},
   "outputs": [],
   "source": [
    "import ipywidgets\n",
    "import matplotlib\n",
    "import matplotlib.pyplot as plt\n",
    "import numpy as np"
   ]
  },
  {
   "cell_type": "markdown",
   "metadata": {},
   "source": [
    "### Widget Basics"
   ]
  },
  {
   "cell_type": "markdown",
   "metadata": {},
   "source": [
    "The simplest interface is the function `ipywidgets.interact`, which, in its simplest form, takes a function and makes a widget that lets you change the values of its arguments. Each time an argument is changed, the function is called again."
   ]
  },
  {
   "cell_type": "code",
   "execution_count": null,
   "metadata": {},
   "outputs": [],
   "source": [
    "lst = [\"hello\", \"it's me\", \"i was wondering\", \"if after all these years you'd like to meet\"]\n",
    "\n",
    "def my_function(the_box_is_checked=False, integer=(0, 2), string=lst):\n",
    "    pass\n",
    "\n",
    "ipywidgets.interact(my_function);"
   ]
  },
  {
   "cell_type": "markdown",
   "metadata": {},
   "source": [
    "The type of widget is inferred from the type of the argument. So, because `this_box_is_checked` is a boolean (`True`/`False`), the widget is a checkbox, because `integer` is a tuple, the widget is a slider, and because `string` is a list, the widget is a dropdown menu."
   ]
  },
  {
   "cell_type": "markdown",
   "metadata": {},
   "source": [
    "The above example is obviously useless -- `my_function` does nothing with its arguments. Generally, if we want the interaction to do something that the user can see, we need to either `print` or `plot` something.\n",
    "\n",
    "The example below is a reasonably minimal example of such an interaction."
   ]
  },
  {
   "cell_type": "code",
   "execution_count": null,
   "metadata": {},
   "outputs": [],
   "source": [
    "def my_function(this_box_is_checked=False, integer=(0, 2), string=lst):\n",
    "    if this_box_is_checked:\n",
    "        print(integer*string)\n",
    "\n",
    "ipywidgets.interact(my_function);"
   ]
  },
  {
   "cell_type": "markdown",
   "metadata": {},
   "source": [
    "### Widgets for Interactive Plotting"
   ]
  },
  {
   "cell_type": "markdown",
   "metadata": {},
   "source": [
    "One of the most common uses is for interactive plotting. In that case, we need to use, instead of the typical `%matplotlib inline` magic, the `%matplotlib notebook` magic to get interactive plots. "
   ]
  },
  {
   "cell_type": "code",
   "execution_count": null,
   "metadata": {},
   "outputs": [],
   "source": [
    "%matplotlib notebook"
   ]
  },
  {
   "cell_type": "markdown",
   "metadata": {},
   "source": [
    "The examples below show how to create a variety of interactive plots.\n",
    "\n",
    "In general, you  set up the plot, then draw something on it that you want the user to interact with. Then you create a function that, when it is called, changes the values of the thing you drew."
   ]
  },
  {
   "cell_type": "markdown",
   "metadata": {},
   "source": [
    "#### A Line with Interactive Slope"
   ]
  },
  {
   "cell_type": "markdown",
   "metadata": {},
   "source": [
    "In the example below, we draw a `line` on an `ax`is using `ax.plot`. The function that modifies it is `f` and it changes the slope of the line using `line.set_data`."
   ]
  },
  {
   "cell_type": "code",
   "execution_count": null,
   "metadata": {},
   "outputs": [],
   "source": [
    "def setup_plot_cartesian(mn, mx):\n",
    "    \"\"\"create a figure and axes with the origin in the center\n",
    "    and the Cartesian x- and y-axes (y=0 and x=0) drawn in.\n",
    "    \"\"\"\n",
    "    fig, ax = plt.subplots()\n",
    "    ax.set_xlim([mn, mx]); ax.set_ylim([mn, mx])\n",
    "    plt.hlines(0, 2*mn, 2*mx)\n",
    "    plt.vlines(0, 2*mn, 2*mx)\n",
    "    \n",
    "    return fig, ax\n",
    "\n",
    "def make_line_plotter():\n",
    "    \"\"\"create a function that plots a line with variable slope parameter,\n",
    "    suitable for use with ipywidgets.interact.\n",
    "    \"\"\"\n",
    "    fig, ax = setup_plot_cartesian(-1, 1)\n",
    "    \n",
    "    xs = np.arange(-2, 2, 1)\n",
    "    line, = ax.plot(xs, xs)\n",
    "    \n",
    "    plt.axis(\"off\")\n",
    "    \n",
    "    def f(m=0.):\n",
    "        line.set_data(xs, m*xs)\n",
    "    \n",
    "    return f\n",
    "\n",
    "f = make_line_plotter()\n",
    "ipywidgets.interact(f, m=ipywidgets.FloatSlider(0, min=-10, max=10));"
   ]
  },
  {
   "cell_type": "markdown",
   "metadata": {},
   "source": [
    "#### A Line with Interactive Slope and Color"
   ]
  },
  {
   "cell_type": "markdown",
   "metadata": {},
   "source": [
    "We're not stuck just modifying the data of a plot. There are a variety of `.set_foo` methods that let us set a property `foo` of a plot.\n",
    "\n",
    "The example below also sets the color. Notice that we just had to add a line calling the `.set_color` method to our previous example.\n",
    "\n",
    "As an added bonus, we pull our colors from the [XKCD color survey](https://blog.xkcd.com/2010/05/03/color-survey-results/), which has been added to matplotlib. These colors are often more visually appealing than the base matplotlib colors, and they have very memorable names!"
   ]
  },
  {
   "cell_type": "code",
   "execution_count": null,
   "metadata": {},
   "outputs": [],
   "source": [
    "def make_colorful_line_plotter():\n",
    "    \"\"\"create a function that plots a line with variable slope parameter,\n",
    "    and a variable color, suitable for use with ipywidgets.interact.\n",
    "    \"\"\"\n",
    "    \n",
    "    fig, ax = setup_plot_cartesian(-1, 1)\n",
    "    xs = np.arange(-2, 2, 1)\n",
    "    line, = ax.plot(xs, xs, lw=2)\n",
    "    \n",
    "    plt.axis(\"off\")\n",
    "    \n",
    "    def f(m=0., color=\"cloudy blue\"):\n",
    "        line.set_data(xs, m*xs)\n",
    "        line.set_color(\"xkcd:\"+color)\n",
    "    \n",
    "    return f"
   ]
  },
  {
   "cell_type": "code",
   "execution_count": null,
   "metadata": {},
   "outputs": [],
   "source": [
    "color_options = [color_key.split(\":\")[1] for color_key in matplotlib.colors.XKCD_COLORS.keys()]\n",
    "\n",
    "f = make_colorful_line_plotter()\n",
    "ipywidgets.interact(f, m=ipywidgets.FloatSlider(0, min=-10, max=10),\n",
    "                   color=ipywidgets.Dropdown(options=color_options));"
   ]
  },
  {
   "cell_type": "markdown",
   "metadata": {},
   "source": [
    "#### Bespoke Data Analysis"
   ]
  },
  {
   "cell_type": "markdown",
   "metadata": {},
   "source": [
    "Now on to a moderately more useful and data-science-y example.\n",
    "\n",
    "Normally, we fit our data using maximum likelihood. If we're fitting a Gaussian to our data, that means calculating the mean and standard deviation/variance of the data (or, from another perspective, every time we report our data as a mean ± standard deviation, we're fitting a Gaussian to our data).\n",
    "\n",
    "Alternatively, we could fit our data by hand! The cell below generates an interactive plot with a histogram of the data and a freely modifiable Gaussian probability curve. You can use the sliders to adjust the center and spread of the curve until it seems to fit the data nicely, and then compare it with the `true` mean `mu` and variance `Sigma`."
   ]
  },
  {
   "cell_type": "code",
   "execution_count": null,
   "metadata": {
    "scrolled": false
   },
   "outputs": [],
   "source": [
    "def make_gauss_fitter(data, true_mu, true_Sigma):\n",
    "    \"\"\"given a dataset with a given mean mu and variance Sigma,\n",
    "    construct a function that plots a gaussian pdf with variable\n",
    "    mean and variance over a normed histogram of the data.\n",
    "    intended for use with ipywidgets.interact.\n",
    "    \"\"\"\n",
    "    \n",
    "    xs = np.arange(-5*np.sqrt(true_Sigma)+true_mu,\n",
    "                   5*np.sqrt(true_Sigma)+true_mu,\n",
    "                   0.01)\n",
    "    gauss_pdf = lambda xs, mu, sigma: (1/np.sqrt(2*np.pi*sigma))*np.exp((-0.5*(xs-mu)**2)/sigma)\n",
    "    \n",
    "    fig, ax = plt.subplots()\n",
    "    hist = ax.hist(data, normed=True, bins=max(10, N//50))\n",
    "    fit, = plt.plot(xs, gauss_pdf(xs, 0, 1), lw=4) \n",
    "    \n",
    "    def f(mu=0., sigma=1.):\n",
    "        fit.set_data(xs, gauss_pdf(xs, mu, sigma))\n",
    "    \n",
    "    return f\n",
    "\n",
    "true_mu = 2.; true_Sigma = 0.5; N = 20;\n",
    "data = np.sqrt(true_Sigma)*np.random.standard_normal(size=N) + true_mu\n",
    "\n",
    "\n",
    "f = make_gauss_fitter(data, true_mu, true_Sigma)\n",
    "ipywidgets.interact(f, mu=ipywidgets.FloatSlider(0, min=-10, max=10),\n",
    "                   sigma=ipywidgets.FloatSlider(1., min=1e-1, max=10, step=1e-1));"
   ]
  }
 ],
 "metadata": {
  "kernelspec": {
   "display_name": "Python 3",
   "language": "python",
   "name": "python3"
  },
  "language_info": {
   "codemirror_mode": {
    "name": "ipython",
    "version": 3
   },
   "file_extension": ".py",
   "mimetype": "text/x-python",
   "name": "python",
   "nbconvert_exporter": "python",
   "pygments_lexer": "ipython3",
   "version": "3.6.6"
  }
 },
 "nbformat": 4,
 "nbformat_minor": 2
}
